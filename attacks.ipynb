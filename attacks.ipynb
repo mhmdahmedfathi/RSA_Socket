{
 "cells": [
  {
   "cell_type": "code",
   "execution_count": 57,
   "metadata": {},
   "outputs": [
    {
     "data": {
      "text/plain": [
       "134217728"
      ]
     },
     "execution_count": 57,
     "metadata": {},
     "output_type": "execute_result"
    }
   ],
   "source": [
    "from math import sqrt,floor, log2\n",
    "from Crypto.Util import number\n",
    "from RSA import *\n",
    "import numpy as np\n",
    "import sympy as sp\n",
    "import matplotlib.pyplot as plt\n",
    "import sys, threading\n",
    "import random\n",
    "import math\n",
    "import time\n",
    "\n",
    "sys.setrecursionlimit(10**7)\n",
    "threading.stack_size(2**27)"
   ]
  },
  {
   "cell_type": "code",
   "execution_count": 58,
   "metadata": {},
   "outputs": [],
   "source": [
    "def Auto_key_generation(n_length = 16):\n",
    "    p = number.getPrime(n_length // 2)\n",
    "    q = number.getPrime(n_length // 2)\n",
    "\n",
    "    while p == q:\n",
    "        q = number.getPrime(n_length // 2)\n",
    "\n",
    "    n = p * q\n",
    "    phi_n = (p - 1) * (q - 1)\n",
    "\n",
    "    e = number.getPrime(int(log2(phi_n)))\n",
    "    while GCD(phi_n, e) != 1:\n",
    "        e = number.getPrime(int(log2(phi_n)))\n",
    "\n",
    "\n",
    "    return e, n"
   ]
  },
  {
   "cell_type": "markdown",
   "metadata": {},
   "source": [
    "# Requirement 3: \n",
    "Plot a graph of RSA encryption time vs. Key length."
   ]
  },
  {
   "cell_type": "code",
   "execution_count": 59,
   "metadata": {},
   "outputs": [
    {
     "data": {
      "image/png": "[encoded data removed]",
      "text/plain": [
       "<Figure size 432x288 with 1 Axes>"
      ]
     },
     "metadata": {
      "needs_background": "light"
     },
     "output_type": "display_data"
    }
   ],
   "source": [
    "message = \"Z\"\n",
    "\n",
    "start = 8\n",
    "end = 512\n",
    "x = np.linspace(start, end, end - start + 1)\n",
    "\n",
    "keys = []\n",
    "\n",
    "for key_length in x:\n",
    "    e, n = Auto_key_generation(int(key_length))\n",
    "    keys.append((e, n))\n",
    "\n",
    "y = []\n",
    "\n",
    "for i, j in enumerate(x):\n",
    "    elapsed_time = 0\n",
    "    (e, n) = keys[i]\n",
    "    for _ in range(100):\n",
    "        start_time = time.time()\n",
    "        Encrypt(message, n, e)\n",
    "        end_time = time.time()\n",
    "        elapsed_time += end_time - start_time\n",
    "    y.append(elapsed_time / 100)\n",
    "\n",
    "plt.plot(x, y)\n",
    "plt.xlabel(\"Key Length\")\n",
    "plt.ylabel(\"Time (s)\")\n",
    "plt.show()"
   ]
  },
  {
   "cell_type": "markdown",
   "metadata": {},
   "source": [
    "# Requirement 4:\n",
    "Plot a graph of Time to break the private key (in seconds) vs. the value of n."
   ]
  },
  {
   "cell_type": "code",
   "execution_count": 60,
   "metadata": {},
   "outputs": [
    {
     "name": "stdout",
     "output_type": "stream",
     "text": [
      "2176242973\n",
      "p = 40883\n",
      "q = 53231\n"
     ]
    }
   ],
   "source": [
    "def bruteForce(n):\n",
    "    for i in range(2, int(sqrt(n))):\n",
    "        if n % i == 0:\n",
    "            p = i\n",
    "            q = n // i\n",
    "            break\n",
    "\n",
    "    return p, q\n",
    "\n",
    "_, n = Auto_key_generation(32)\n",
    "print(n)\n",
    "p, q = bruteForce(n)\n",
    "if p * q == n:\n",
    "    print(\"p =\", p)\n",
    "    print(\"q =\", q)\n",
    "else:\n",
    "    print(\"Couldn't find p and q\")"
   ]
  },
  {
   "cell_type": "code",
   "execution_count": null,
   "metadata": {},
   "outputs": [],
   "source": [
    "#loop to generate keys\n",
    "keys_to_break=[]\n",
    "\n",
    "lower_range=8\n",
    "upper_range=50\n",
    "for i in range(lower_range,upper_range):\n",
    "    (e,n),(d,n)=RSA(int(i))\n",
    "    keys_to_break.append((e,n))\n",
    "\n",
    "counter=0\n",
    "time_array=[]\n",
    "for i in range(lower_range,upper_range):\n",
    "    time_taken=0\n",
    "    #for k in range(1,2):\n",
    "    st=time.time()\n",
    "    p,q=break_RSA(keys_to_break[counter])\n",
    "    et=time.time()\n",
    "    time_taken=(et-st)\n",
    "    time_array.append(time_taken)\n",
    "    print(i,time_taken)\n",
    "        \n",
    "    counter+=1"
   ]
  },
  {
   "cell_type": "code",
   "execution_count": null,
   "metadata": {},
   "outputs": [],
   "source": [
    "x_break=np.linspace(lower_range,upper_range,upper_range-lower_range)\n",
    "print(x_break.shape)\n",
    "print(np.array(time_array).shape)\n",
    "\n",
    "plt.plot(x_break,time_array)\n",
    "plt.show()"
   ]
  }
 ],
 "metadata": {
  "interpreter": {
   "hash": "33763bd4968b6b790ae437d894eb2d341cfbe95369160c26415fe6c58b68d183"
  },
  "kernelspec": {
   "display_name": "Python 3.8.8 ('base')",
   "language": "python",
   "name": "python3"
  },
  "language_info": {
   "codemirror_mode": {
    "name": "ipython",
    "version": 3
   },
   "file_extension": ".py",
   "mimetype": "text/x-python",
   "name": "python",
   "nbconvert_exporter": "python",
   "pygments_lexer": "ipython3",
   "version": "3.8.8"
  },
  "orig_nbformat": 4
 },
 "nbformat": 4,
 "nbformat_minor": 2
}
